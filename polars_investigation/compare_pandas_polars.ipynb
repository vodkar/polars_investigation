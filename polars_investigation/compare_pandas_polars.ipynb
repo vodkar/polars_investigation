{
 "cells": [
  {
   "cell_type": "code",
   "execution_count": 2,
   "metadata": {},
   "outputs": [],
   "source": [
    "import os\n",
    "from multiprocessing import get_context\n",
    "from functools import partial\n",
    "from dask.distributed import LocalCluster\n"
   ]
  },
  {
   "cell_type": "code",
   "execution_count": 1,
   "metadata": {},
   "outputs": [
    {
     "data": {
      "application/vnd.jupyter.widget-view+json": {
       "model_id": "6614ca7fb9ef42e7af97009b291ea41d",
       "version_major": 2,
       "version_minor": 0
      },
      "text/plain": [
       "FloatProgress(value=0.0, layout=Layout(width='auto'), style=ProgressStyle(bar_color='black'))"
      ]
     },
     "metadata": {},
     "output_type": "display_data"
    },
    {
     "data": {
      "text/plain": [
       "85.33304012499866"
      ]
     },
     "execution_count": 1,
     "metadata": {},
     "output_type": "execute_result"
    }
   ],
   "source": [
    "from read_parquet import duckdb_read_parquet\n",
    "\n",
    "duckdb_read_parquet(1)"
   ]
  },
  {
   "cell_type": "code",
   "execution_count": 3,
   "metadata": {},
   "outputs": [
    {
     "name": "stderr",
     "output_type": "stream",
     "text": [
      "2024-05-29 11:08:01,673\tINFO worker.py:1749 -- Started a local Ray instance.\n",
      "\u001b[36m(raylet)\u001b[0m Spilled 3053 MiB, 56 objects, write throughput 1345 MiB/s. Set RAY_verbose_spill_logs=0 to disable this message.\n",
      "\u001b[36m(raylet)\u001b[0m Spilled 5169 MiB, 74 objects, write throughput 1192 MiB/s.\n",
      "\u001b[36m(raylet)\u001b[0m Spilled 8522 MiB, 89 objects, write throughput 1134 MiB/s.\n",
      "2024-05-29 11:19:30,222\tINFO worker.py:1749 -- Started a local Ray instance.\n",
      "\u001b[36m(raylet)\u001b[0m Spilled 2246 MiB, 68 objects, write throughput 2182 MiB/s. Set RAY_verbose_spill_logs=0 to disable this message.\n",
      "\u001b[36m(raylet)\u001b[0m Spilled 4933 MiB, 77 objects, write throughput 1595 MiB/s.\n",
      "\u001b[36m(raylet)\u001b[0m Spilled 8226 MiB, 102 objects, write throughput 1419 MiB/s.\n",
      "2024-05-29 11:20:17,033\tINFO worker.py:1749 -- Started a local Ray instance.\n",
      "\u001b[36m(raylet)\u001b[0m Spilled 2587 MiB, 71 objects, write throughput 1552 MiB/s. Set RAY_verbose_spill_logs=0 to disable this message.\n",
      "\u001b[36m(raylet)\u001b[0m Spilled 5029 MiB, 85 objects, write throughput 1630 MiB/s.\n",
      "\u001b[36m(raylet)\u001b[0m Spilled 8238 MiB, 108 objects, write throughput 1377 MiB/s.\n",
      "2024-05-29 11:21:02,305\tINFO worker.py:1749 -- Started a local Ray instance.\n",
      "\u001b[36m(raylet)\u001b[0m Spilled 2094 MiB, 2 objects, write throughput 1772 MiB/s. Set RAY_verbose_spill_logs=0 to disable this message.\n",
      "2024-05-29 11:22:10,235\tINFO worker.py:1749 -- Started a local Ray instance.\n",
      "\u001b[36m(raylet)\u001b[0m Spilled 2094 MiB, 2 objects, write throughput 1715 MiB/s. Set RAY_verbose_spill_logs=0 to disable this message.\n",
      "2024-05-29 11:23:18,831\tINFO worker.py:1749 -- Started a local Ray instance.\n",
      "\u001b[36m(raylet)\u001b[0m Spilled 2094 MiB, 2 objects, write throughput 1765 MiB/s. Set RAY_verbose_spill_logs=0 to disable this message.\n"
     ]
    },
    {
     "name": "stdout",
     "output_type": "stream",
     "text": [
      "Modin with all threads: 62.46101733400428s | Mean: 20.82033911133476s | Reading rate: 0.0480299573725767 op/s\n",
      "Modin with one thread: 37.067314541011s | Mean: 12.355771513670334s | Reading rate: 0.08093383718641992 op/s\n"
     ]
    }
   ],
   "source": [
    "from read_parquet import (\n",
    "    pl_read_parquet,\n",
    "    pd_read_parquet,\n",
    "    spark_read_parquet,\n",
    "    dask_read_parquet,\n",
    "    modin_read_parquet,\n",
    "    duckdb_read_parquet,\n",
    ")\n",
    "\n",
    "class ProcessTimer:\n",
    "    def time_in_process(func, repeat: int, *args):\n",
    "        results = []\n",
    "        for _ in range(repeat):\n",
    "            ctx = get_context(\"spawn\")\n",
    "            with ctx.Pool(processes=1) as pool:\n",
    "                results.append(pool.apply(func, args))\n",
    "\n",
    "        return sum(results)\n",
    "\n",
    "    def time_in_process_single_cpu(func, repeat: int):\n",
    "        return time_in_process(func, repeat, cpu_count=1)\n",
    "\n",
    "    def time_in_process_all_cpu(func, repeat: int):\n",
    "        return time_in_process(func, repeat, cpu_count=os.cpu_count())\n",
    "\n",
    "    def timer(func, repeat: int, **kwargs):\n",
    "        results = []\n",
    "        for _ in range(repeat):\n",
    "            results.append(func(**kwargs))\n",
    "        return sum(results)\n",
    "\n",
    "    def print_stat(description: str, duration: float, repeats: int):\n",
    "        print(\n",
    "            f\"{description}: {duration}s | Mean: {duration / repeats}s | Reading rate: {repeats / duration} op/s\"\n",
    "        )\n",
    "\n",
    "\n",
    "repeat_time = 3\n",
    "pl_all_cpu_duration = time_in_process_all_cpu(pl_read_parquet, repeat_time)\n",
    "pl_one_cpu_duration = time_in_process_single_cpu(pl_read_parquet, repeat_time)\n",
    "\n",
    "pd_all_cpu_duration = time_in_process_all_cpu(pd_read_parquet, repeat_time)\n",
    "pd_one_thread_duration = time_in_process_single_cpu(pd_read_parquet, repeat_time)\n",
    "\n",
    "pyspark_all_thread_duration = time_in_process_all_cpu(spark_read_parquet, repeat_time)\n",
    "pyspark_one_thread_duration = time_in_process_single_cpu(spark_read_parquet, repeat_time)\n",
    "\n",
    "with LocalCluster(memory_limit=\"16GiB\",threads_per_worker=1, n_workers=1) as cluster:\n",
    "    dask_one_thread_duration = time_in_process(dask_read_parquet, repeat_time)\n",
    "with LocalCluster(memory_limit=\"16GiB\",threads_per_worker=os.cpu_count(), n_workers=1) as cluster:\n",
    "    dask_all_thread_duration = time_in_process(dask_read_parquet, repeat_time)\n",
    "\n",
    "modin_max_threads_duration = time_in_process_all_cpu(modin_read_parquet, repeat_time)\n",
    "modin_one_thread_duration = time_in_process_single_cpu(modin_read_parquet, repeat_time)\n",
    "\n",
    "duck_db_max_threads_duration = time_in_process_all_cpu(duckdb_read_parquet, repeat_time)\n",
    "duck_db_one_thread_duration = time_in_process_single_cpu(duckdb_read_parquet, repeat_time)\n",
    "\n",
    "\n",
    "print_stat(\"Polars with all threads\", pl_max_threads_duration)\n",
    "print_stat(\"Polars with one thread\", pl_one_thread_duration)\n",
    "print_stat(\"Pandas with all threads\", pd_duration)\n",
    "print_stat(\"Pandas with one thread\", pd_one_thread_duration)\n",
    "print_stat(\"Pyspark with all threads\", pyspark_all_thread_duration)\n",
    "print_stat(\"Pyspark with one thread\", pyspark_one_thread_duration)\n",
    "print_stat(\"Dask with all threads\", dask_all_thread_duration)\n",
    "print_stat(\"Dask with one thread\", dask_one_thread_duration)\n",
    "print_stat(\"Modin with all threads\", modin_max_threads_duration, repeat_time)\n",
    "print_stat(\"Modin with one thread\", modin_one_thread_duration, repeat_time)\n",
    "print_stat(\"Modin with all threads\", duck_db_max_threads_duration, repeat_time)\n",
    "print_stat(\"Modin with one thread\", duck_db_one_thread_duration, repeat_time)\n"
   ]
  },
  {
   "cell_type": "code",
   "execution_count": 4,
   "metadata": {},
   "outputs": [],
   "source": [
    "from random import randint\n",
    "import polars as pl\n",
    "from faker import Faker\n",
    "\n",
    "sample_data = pl.read_parquet(\"../datasets/train.parquet\")\n",
    "\n",
    "faker = Faker()\n",
    "# users = pl.DataFrame(\n",
    "#     [\n",
    "#         {\n",
    "#             \"id\": i,\n",
    "#             \"name\": faker.name(),\n",
    "#             \"address\": faker.address(),\n",
    "#             \"balance\": float(randint(0, 1000000)),\n",
    "#             \"is_deleted\": randint(0, 10) == 0,\n",
    "#             \"cards\": [{\"number\": faker.credit_card_number(), \"provider\": faker.credit_card_provider(), \"expire\": faker.credit_card_expire()} for _ in range(randint(0,5))]\n",
    "#         }\n",
    "#         for i in range(100000)\n",
    "#     ]\n",
    "# )\n",
    "# users.write_parquet(\"../datasets/users.parquet\")\n",
    "\n",
    "devices = [\"mobile\", \"pc\", \"domofon\"]\n",
    "users_session = pl.DataFrame(\n",
    "    [\n",
    "        {\n",
    "            \"user_id\": randint(0, 105000),\n",
    "            \"session_id\": i,\n",
    "            \"location\": faker.address(),\n",
    "            \"device\": devices[randint(0, 2)],\n",
    "            \n",
    "        }\n",
    "        for i in range(sample_data.unique(\"session\").shape[0] + 10000)\n",
    "    ]\n",
    ")\n",
    "users_session.write_parquet(\"../datasets/users_session.parquet\")"
   ]
  },
  {
   "cell_type": "code",
   "execution_count": 2,
   "metadata": {},
   "outputs": [],
   "source": [
    "import polars as pl\n",
    "pl.read_parquet(\"../datasets/train.parquet\").with_columns(session=pl.col(\"session\").cast(pl.Int64()), aid=pl.col(\"aid\").cast(pl.Int64()), ts=pl.col(\"ts\").cast(pl.Int64())).limit(5000000).write_parquet(\"../datasets/train.parquet\")"
   ]
  },
  {
   "cell_type": "code",
   "execution_count": 2,
   "metadata": {},
   "outputs": [
    {
     "data": {
      "text/plain": [
       "(49.954491624986986, 11483332608)"
      ]
     },
     "execution_count": 2,
     "metadata": {},
     "output_type": "execute_result"
    }
   ],
   "source": [
    "from join_data import duckdb_join\n",
    "\n",
    "duckdb_join(10)"
   ]
  },
  {
   "cell_type": "code",
   "execution_count": 18,
   "metadata": {},
   "outputs": [
    {
     "data": {
      "text/html": [
       "<div><style>\n",
       ".dataframe > thead > tr,\n",
       ".dataframe > tbody > tr {\n",
       "  text-align: right;\n",
       "  white-space: pre-wrap;\n",
       "}\n",
       "</style>\n",
       "<small>shape: (9, 5)</small><table border=\"1\" class=\"dataframe\"><thead><tr><th>statistic</th><th>session</th><th>aid</th><th>ts</th><th>type</th></tr><tr><td>str</td><td>f64</td><td>f64</td><td>f64</td><td>f64</td></tr></thead><tbody><tr><td>&quot;count&quot;</td><td>5e6</td><td>5e6</td><td>5e6</td><td>5e6</td></tr><tr><td>&quot;null_count&quot;</td><td>0.0</td><td>0.0</td><td>0.0</td><td>0.0</td></tr><tr><td>&quot;mean&quot;</td><td>47519.890716</td><td>929009.162789</td><td>1.6603e9</td><td>0.1045832</td></tr><tr><td>&quot;std&quot;</td><td>28509.12232</td><td>536183.400514</td><td>757636.8727</td><td>0.358765</td></tr><tr><td>&quot;min&quot;</td><td>0.0</td><td>1.0</td><td>1.6593e9</td><td>0.0</td></tr><tr><td>&quot;25%&quot;</td><td>22437.0</td><td>469409.0</td><td>1.6596e9</td><td>0.0</td></tr><tr><td>&quot;50%&quot;</td><td>47662.0</td><td>927765.0</td><td>1.6602e9</td><td>0.0</td></tr><tr><td>&quot;75%&quot;</td><td>72632.0</td><td>1.393975e6</td><td>1.6609e9</td><td>0.0</td></tr><tr><td>&quot;max&quot;</td><td>95893.0</td><td>1.855601e6</td><td>1.6617e9</td><td>2.0</td></tr></tbody></table></div>"
      ],
      "text/plain": [
       "shape: (9, 5)\n",
       "┌────────────┬──────────────┬───────────────┬─────────────┬───────────┐\n",
       "│ statistic  ┆ session      ┆ aid           ┆ ts          ┆ type      │\n",
       "│ ---        ┆ ---          ┆ ---           ┆ ---         ┆ ---       │\n",
       "│ str        ┆ f64          ┆ f64           ┆ f64         ┆ f64       │\n",
       "╞════════════╪══════════════╪═══════════════╪═════════════╪═══════════╡\n",
       "│ count      ┆ 5e6          ┆ 5e6           ┆ 5e6         ┆ 5e6       │\n",
       "│ null_count ┆ 0.0          ┆ 0.0           ┆ 0.0         ┆ 0.0       │\n",
       "│ mean       ┆ 47519.890716 ┆ 929009.162789 ┆ 1.6603e9    ┆ 0.1045832 │\n",
       "│ std        ┆ 28509.12232  ┆ 536183.400514 ┆ 757636.8727 ┆ 0.358765  │\n",
       "│ min        ┆ 0.0          ┆ 1.0           ┆ 1.6593e9    ┆ 0.0       │\n",
       "│ 25%        ┆ 22437.0      ┆ 469409.0      ┆ 1.6596e9    ┆ 0.0       │\n",
       "│ 50%        ┆ 47662.0      ┆ 927765.0      ┆ 1.6602e9    ┆ 0.0       │\n",
       "│ 75%        ┆ 72632.0      ┆ 1.393975e6    ┆ 1.6609e9    ┆ 0.0       │\n",
       "│ max        ┆ 95893.0      ┆ 1.855601e6    ┆ 1.6617e9    ┆ 2.0       │\n",
       "└────────────┴──────────────┴───────────────┴─────────────┴───────────┘"
      ]
     },
     "execution_count": 18,
     "metadata": {},
     "output_type": "execute_result"
    }
   ],
   "source": [
    "import polars as pl\n",
    "pl.read_parquet(\"../datasets/train.parquet\").describe()\n",
    "# pl.scan_parquet(\"../datasets/train.parquet\").group_by(\"session\").agg(\n",
    "#             [\n",
    "#                 pl.col(\"ts\").first().alias(\"first_ts\"),\n",
    "#                 pl.col(\"aid\").mean().alias(\"mean_aid\"),\n",
    "#                 pl.col(\"aid\").sum().alias(\"sum_aid\"),\n",
    "#                 pl.col(\"aid\").count().alias(\"count_aid\"),\n",
    "#                 pl.col(\"aid\").median().alias(\"median_aid\"),\n",
    "#                 pl.col(\"aid\").min().alias(\"min_aid\"),\n",
    "#                 pl.col(\"aid\").max().alias(\"max_aid\"),\n",
    "#             ]\n",
    "#         ).collect()"
   ]
  },
  {
   "cell_type": "code",
   "execution_count": 20,
   "metadata": {},
   "outputs": [
    {
     "data": {
      "text/html": [
       "<div><style>\n",
       ".dataframe > thead > tr,\n",
       ".dataframe > tbody > tr {\n",
       "  text-align: right;\n",
       "  white-space: pre-wrap;\n",
       "}\n",
       "</style>\n",
       "<small>shape: (100_000, 6)</small><table border=\"1\" class=\"dataframe\"><thead><tr><th>id</th><th>name</th><th>address</th><th>balance</th><th>is_deleted</th><th>cards</th></tr><tr><td>i64</td><td>str</td><td>str</td><td>f64</td><td>bool</td><td>list[struct[3]]</td></tr></thead><tbody><tr><td>0</td><td>&quot;Tiffany Lane&quot;</td><td>&quot;638 Dylan Vista\n",
       "West Jonathanh…</td><td>983528.0</td><td>false</td><td>[{&quot;4107518457527&quot;,&quot;Maestro&quot;,&quot;01/29&quot;}]</td></tr><tr><td>1</td><td>&quot;Kelsey Haynes&quot;</td><td>&quot;852 Samuel Landing\n",
       "Port Wayne,…</td><td>1510.0</td><td>true</td><td>[{&quot;213196942001800&quot;,&quot;JCB 15 digit&quot;,&quot;08/27&quot;}]</td></tr><tr><td>2</td><td>&quot;Arthur Franklin&quot;</td><td>&quot;9270 Dawn Shores Suite 162\n",
       "Ran…</td><td>263717.0</td><td>false</td><td>[{&quot;6581630471664274&quot;,&quot;VISA 16 digit&quot;,&quot;05/33&quot;}, {&quot;3592784318012041&quot;,&quot;American Express&quot;,&quot;09/29&quot;}, {&quot;4927738600686684&quot;,&quot;Diners Club / Carte Blanche&quot;,&quot;10/32&quot;}]</td></tr><tr><td>3</td><td>&quot;Lisa Garcia&quot;</td><td>&quot;7056 David Loaf Apt. 550\n",
       "New H…</td><td>385942.0</td><td>false</td><td>[{&quot;2621076554998992&quot;,&quot;American Express&quot;,&quot;03/28&quot;}, {&quot;3536573740732725&quot;,&quot;VISA 19 digit&quot;,&quot;10/25&quot;}, … {&quot;4340086749898912&quot;,&quot;VISA 13 digit&quot;,&quot;01/26&quot;}]</td></tr><tr><td>4</td><td>&quot;Betty Scott&quot;</td><td>&quot;83548 Angela Centers Apt. 780\n",
       "…</td><td>62807.0</td><td>false</td><td>[{&quot;4001765127838885&quot;,&quot;VISA 13 digit&quot;,&quot;10/27&quot;}, {&quot;180065515930894&quot;,&quot;Mastercard&quot;,&quot;11/32&quot;}]</td></tr><tr><td>&hellip;</td><td>&hellip;</td><td>&hellip;</td><td>&hellip;</td><td>&hellip;</td><td>&hellip;</td></tr><tr><td>99995</td><td>&quot;Diane Green&quot;</td><td>&quot;Unit 9989 Box 5423\n",
       "DPO AA 2290…</td><td>514508.0</td><td>false</td><td>[{&quot;4804043829704899&quot;,&quot;American Express&quot;,&quot;09/30&quot;}]</td></tr><tr><td>99996</td><td>&quot;Hector Gonzalez&quot;</td><td>&quot;1369 Abigail Bypass Suite 876\n",
       "…</td><td>876677.0</td><td>false</td><td>[{&quot;4830661757645808701&quot;,&quot;JCB 16 digit&quot;,&quot;06/30&quot;}, {&quot;4904882154483933799&quot;,&quot;Mastercard&quot;,&quot;02/33&quot;}, … {&quot;213121765239501&quot;,&quot;VISA 19 digit&quot;,&quot;11/31&quot;}]</td></tr><tr><td>99997</td><td>&quot;Jasmine Williams&quot;</td><td>&quot;6201 John Views Apt. 852\n",
       "New D…</td><td>502120.0</td><td>false</td><td>[{&quot;3515291452549832&quot;,&quot;JCB 15 digit&quot;,&quot;01/31&quot;}, {&quot;30468516391102&quot;,&quot;VISA 16 digit&quot;,&quot;06/29&quot;}]</td></tr><tr><td>99998</td><td>&quot;Brittany Wright&quot;</td><td>&quot;673 Ashley Inlet\n",
       "Lake Travisst…</td><td>14968.0</td><td>false</td><td>[{&quot;3532065714991233&quot;,&quot;Maestro&quot;,&quot;04/30&quot;}, {&quot;6553402899707042&quot;,&quot;VISA 16 digit&quot;,&quot;06/30&quot;}, … {&quot;3516546005688760&quot;,&quot;JCB 16 digit&quot;,&quot;07/30&quot;}]</td></tr><tr><td>99999</td><td>&quot;Michael Smith&quot;</td><td>&quot;18965 Jodi Lakes Suite 864\n",
       "Aco…</td><td>441676.0</td><td>false</td><td>[{&quot;4453692787952&quot;,&quot;Diners Club / Carte Blanche&quot;,&quot;02/33&quot;}, {&quot;213142076169765&quot;,&quot;Maestro&quot;,&quot;09/28&quot;}, … {&quot;2380968592986404&quot;,&quot;VISA 13 digit&quot;,&quot;05/33&quot;}]</td></tr></tbody></table></div>"
      ],
      "text/plain": [
       "shape: (100_000, 6)\n",
       "┌───────┬──────────────────┬───────────────────────┬──────────┬────────────┬───────────────────────┐\n",
       "│ id    ┆ name             ┆ address               ┆ balance  ┆ is_deleted ┆ cards                 │\n",
       "│ ---   ┆ ---              ┆ ---                   ┆ ---      ┆ ---        ┆ ---                   │\n",
       "│ i64   ┆ str              ┆ str                   ┆ f64      ┆ bool       ┆ list[struct[3]]       │\n",
       "╞═══════╪══════════════════╪═══════════════════════╪══════════╪════════════╪═══════════════════════╡\n",
       "│ 0     ┆ Tiffany Lane     ┆ 638 Dylan Vista       ┆ 983528.0 ┆ false      ┆ [{\"4107518457527\",\"Ma │\n",
       "│       ┆                  ┆ West Jonathanh…       ┆          ┆            ┆ estro\",\"0…            │\n",
       "│ 1     ┆ Kelsey Haynes    ┆ 852 Samuel Landing    ┆ 1510.0   ┆ true       ┆ [{\"213196942001800\",\" │\n",
       "│       ┆                  ┆ Port Wayne,…          ┆          ┆            ┆ JCB 15 di…            │\n",
       "│ 2     ┆ Arthur Franklin  ┆ 9270 Dawn Shores      ┆ 263717.0 ┆ false      ┆ [{\"6581630471664274\", │\n",
       "│       ┆                  ┆ Suite 162             ┆          ┆            ┆ \"VISA 16 …            │\n",
       "│       ┆                  ┆ Ran…                  ┆          ┆            ┆                       │\n",
       "│ 3     ┆ Lisa Garcia      ┆ 7056 David Loaf Apt.  ┆ 385942.0 ┆ false      ┆ [{\"2621076554998992\", │\n",
       "│       ┆                  ┆ 550                   ┆          ┆            ┆ \"American…            │\n",
       "│       ┆                  ┆ New H…                ┆          ┆            ┆                       │\n",
       "│ 4     ┆ Betty Scott      ┆ 83548 Angela Centers  ┆ 62807.0  ┆ false      ┆ [{\"4001765127838885\", │\n",
       "│       ┆                  ┆ Apt. 780              ┆          ┆            ┆ \"VISA 13 …            │\n",
       "│       ┆                  ┆ …                     ┆          ┆            ┆                       │\n",
       "│ …     ┆ …                ┆ …                     ┆ …        ┆ …          ┆ …                     │\n",
       "│ 99995 ┆ Diane Green      ┆ Unit 9989 Box 5423    ┆ 514508.0 ┆ false      ┆ [{\"4804043829704899\", │\n",
       "│       ┆                  ┆ DPO AA 2290…          ┆          ┆            ┆ \"American…            │\n",
       "│ 99996 ┆ Hector Gonzalez  ┆ 1369 Abigail Bypass   ┆ 876677.0 ┆ false      ┆ [{\"483066175764580870 │\n",
       "│       ┆                  ┆ Suite 876             ┆          ┆            ┆ 1\",\"JCB 1…            │\n",
       "│       ┆                  ┆ …                     ┆          ┆            ┆                       │\n",
       "│ 99997 ┆ Jasmine Williams ┆ 6201 John Views Apt.  ┆ 502120.0 ┆ false      ┆ [{\"3515291452549832\", │\n",
       "│       ┆                  ┆ 852                   ┆          ┆            ┆ \"JCB 15 d…            │\n",
       "│       ┆                  ┆ New D…                ┆          ┆            ┆                       │\n",
       "│ 99998 ┆ Brittany Wright  ┆ 673 Ashley Inlet      ┆ 14968.0  ┆ false      ┆ [{\"3532065714991233\", │\n",
       "│       ┆                  ┆ Lake Travisst…        ┆          ┆            ┆ \"Maestro\"…            │\n",
       "│ 99999 ┆ Michael Smith    ┆ 18965 Jodi Lakes      ┆ 441676.0 ┆ false      ┆ [{\"4453692787952\",\"Di │\n",
       "│       ┆                  ┆ Suite 864             ┆          ┆            ┆ ners Club…            │\n",
       "│       ┆                  ┆ Aco…                  ┆          ┆            ┆                       │\n",
       "└───────┴──────────────────┴───────────────────────┴──────────┴────────────┴───────────────────────┘"
      ]
     },
     "execution_count": 20,
     "metadata": {},
     "output_type": "execute_result"
    }
   ],
   "source": [
    "import polars as pl\n",
    "pl.read_parquet(\"../datasets/users.parquet\")"
   ]
  }
 ],
 "metadata": {
  "kernelspec": {
   "display_name": ".venv",
   "language": "python",
   "name": "python3"
  },
  "language_info": {
   "codemirror_mode": {
    "name": "ipython",
    "version": 3
   },
   "file_extension": ".py",
   "mimetype": "text/x-python",
   "name": "python",
   "nbconvert_exporter": "python",
   "pygments_lexer": "ipython3",
   "version": "3.11.8"
  }
 },
 "nbformat": 4,
 "nbformat_minor": 2
}
